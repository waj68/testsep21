{
 "cells": [
  {
   "cell_type": "markdown",
   "id": "14319148",
   "metadata": {},
   "source": [
    "# Data Science Tools and Ecosystem"
   ]
  },
  {
   "cell_type": "markdown",
   "id": "8c6052b8",
   "metadata": {},
   "source": [
    "In this notebook, Data Science Tools and Ecosystem are summarized."
   ]
  },
  {
   "cell_type": "markdown",
   "id": "8139c4d5",
   "metadata": {},
   "source": [
    "**Objectives**\n",
    "- State Data Science Tools\n",
    "- List Popular Languages for Data Science\n",
    "- Document various Libraries used by Data Scientists\n",
    "- Carry out some simple arithmatic tasks"
   ]
  },
  {
   "cell_type": "markdown",
   "id": "61cdcaf8",
   "metadata": {},
   "source": [
    "Some of the popular languages that Data Scientists use are:\n",
    "1. Python\n",
    "2. R\n",
    "3. SQL\n",
    "4. Scala\n",
    "5. Julia"
   ]
  },
  {
   "cell_type": "markdown",
   "id": "3df41bca",
   "metadata": {},
   "source": [
    "Some of the commonly used librries by Data Scientists include:\n",
    "\n",
    "A. Python Libraries\n",
    "\n",
    "1. Scientific Computing: Pandas and NumPy\n",
    "2. Visualization: Matplotlib and Seaborn\n",
    "3. Machine Learning and Deep Learning: Scikit-learn and Keras\n",
    "4. Deep Learning: TensorFlow and PyTorch\n",
    "\n",
    "B. Other Languages\n",
    "\n",
    "1. Apache Spark\n",
    "2. Scala: Vegas\n",
    "3. R: ggplot2\n"
   ]
  },
  {
   "cell_type": "markdown",
   "id": "fd659164",
   "metadata": {},
   "source": [
    "|Data Science Tools|\n",
    "|------------------|\n",
    "|MySQL|\n",
    "|Kibana|\n",
    "|IBM AI Fairness 360|"
   ]
  },
  {
   "cell_type": "markdown",
   "id": "a2241ec4",
   "metadata": {},
   "source": [
    "### Below are a few examples of evaluating arithmatic expressions in Python"
   ]
  },
  {
   "cell_type": "code",
   "execution_count": 1,
   "id": "d288eb64",
   "metadata": {},
   "outputs": [
    {
     "data": {
      "text/plain": [
       "17"
      ]
     },
     "execution_count": 1,
     "metadata": {},
     "output_type": "execute_result"
    }
   ],
   "source": [
    "#This is a simple arithmatic expression to multiply then add integers\n",
    "(3*4)+5"
   ]
  },
  {
   "cell_type": "code",
   "execution_count": 2,
   "id": "3f1f6750",
   "metadata": {},
   "outputs": [
    {
     "data": {
      "text/plain": [
       "3.3333333333333335"
      ]
     },
     "execution_count": 2,
     "metadata": {},
     "output_type": "execute_result"
    }
   ],
   "source": [
    "#This will convert 200 minutes to hours by dividing by 60\n",
    "200/60"
   ]
  },
  {
   "cell_type": "markdown",
   "id": "6f1cca66",
   "metadata": {},
   "source": [
    "## Author\n",
    "Abdul Wajid"
   ]
  },
  {
   "cell_type": "code",
   "execution_count": null,
   "id": "2a961044",
   "metadata": {},
   "outputs": [],
   "source": []
  }
 ],
 "metadata": {
  "kernelspec": {
   "display_name": "Python 3 (ipykernel)",
   "language": "python",
   "name": "python3"
  },
  "language_info": {
   "codemirror_mode": {
    "name": "ipython",
    "version": 3
   },
   "file_extension": ".py",
   "mimetype": "text/x-python",
   "name": "python",
   "nbconvert_exporter": "python",
   "pygments_lexer": "ipython3",
   "version": "3.11.4"
  }
 },
 "nbformat": 4,
 "nbformat_minor": 5
}
